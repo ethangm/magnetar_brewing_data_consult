{
 "cells": [
  {
   "cell_type": "markdown",
   "metadata": {},
   "source": [
    "Beginning of data analysis project for magnetar brewing  \n",
    "Focused on user review analysis"
   ]
  },
  {
   "cell_type": "code",
   "execution_count": null,
   "metadata": {},
   "outputs": [],
   "source": []
  }
 ],
 "metadata": {
  "language_info": {
   "name": "python"
  }
 },
 "nbformat": 4,
 "nbformat_minor": 2
}
